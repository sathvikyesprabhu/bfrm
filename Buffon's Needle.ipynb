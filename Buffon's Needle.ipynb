{
 "cells": [
  {
   "cell_type": "markdown",
   "metadata": {},
   "source": [
    "# Buffon's Needle"
   ]
  },
  {
   "cell_type": "markdown",
   "metadata": {},
   "source": [
    "Comte de Buffon was a prolific 18th Century naturalist whose writings on natural history were popular at the time. However, his first paper was in mathematics; in 1733, he wrote an essay on a Medieval French game called “Le jeu de franc carreau”. In this game, a single player flips a coin into the air, and the coin lands on a checkerboard.\n",
    "\n",
    "The player wins if the coin lands completely within one of the squares on the board, and loses otherwise. Buffon asked a natural question: what is the probability that the player wins? \n",
    "Ans.Let’s assume that the checkerboard consists of just a single square with side length 1, that the coin has radius r < 1/2, and that the center of the coin always lands within the square. Then the player can only win if the center of the circle falls within an imaginary central square of side length 1 - 2r . Assuming that the coin lands anywhere on the larger square with uniform probability, then the probability that the coin falls completely within the smaller square is given by the ratio of the areas of the two squares, or (1 - 2r)**2\n",
    "\n",
    "Four decades later, Buffon published a paper describing a similar game in which the player uniformly drops a needle onto a floor covered by long wooden panels of equal width. In this game, which has become known as Buffon’s needle, the player wins if the needle falls entirely within one of the panels. Note that computing the probability of a win is now complicated by the fact that the needle is described by an orientation in addition to its position. Nevertheless, the first game gives us an idea for how to solve this problem: once we fix a position for the center of the needle, its collection of different possible orientations sweep out a circle.\n",
    "\n",
    "Once we fix a point for the center of the needle (shown as a red dot), its collection of possible orientations sweep out a circle. In the circle on the left, the needle will always lie within the dark brown panel, regardless of its orientation. In the circle on the right, one of the two needles lies within the dark brown panel, whereas another is shown crossing over into the adjacent panel.\n",
    "\n",
    "The probability that the player wins depends on the length of the needle with respect to the distance between wooden panels. We will assume that both of these lengths are equal to 2, and we will find the probability of a loss instead of a win. Buffon used calculus to show that Pr(loss) must be equal to 2/π.\n",
    "\n",
    "But what does Buffon’s needle have to do with randomized algorithms? In 1812, none other than Laplace pointed out that Buffon’s needle could be used to approximate π, and the world’s first Monte Carlo algorithm was born. Specifically, we can approximate the probability Pe of a loss empirically by dully flipping a needle into the air thousands of times (or asking a computer to do it for us). Once we have computed this empirical probability, we can conclude that Pe is approximately equal to 2/π, and thus"
   ]
  },
  {
   "cell_type": "code",
   "execution_count": 1,
   "metadata": {},
   "outputs": [
    {
     "name": "stdout",
     "output_type": "stream",
     "text": [
      "Measurements:       10,   pi ~= 6.666667\n",
      "Measurements:      100,   pi ~= 3.225806\n",
      "Measurements:     1000,   pi ~= 3.169572\n",
      "Measurements:    10000,   pi ~= 3.181674\n",
      "Measurements:   100000,   pi ~= 3.140457\n",
      "Measurements:  1000000,   pi ~= 3.144921\n",
      "Measurements: 10000000,   pi ~= 3.142889\n"
     ]
    }
   ],
   "source": [
    "import random\n",
    "from math import sin, pi\n",
    "\n",
    "measuring_points = [10, 100, 1000, 10000, 100000, 1000000, 10000000]\n",
    "panel_width = 2\n",
    "needle_length = 2\n",
    "count_losses = 0\n",
    "\n",
    "def toss(panel_width, needle_length):\n",
    "    center_coordinate = random.random() * panel_width\n",
    "    needle_angle = random.random() * 2 * pi\n",
    "    deviation = abs(sin(needle_angle))\n",
    "    return (center_coordinate-deviation >= 0) and (center_coordinate+deviation < panel_width)\n",
    "\n",
    "count_of_report = 0\n",
    "point_of_report = measuring_points[0]\n",
    "\n",
    "for count in range(1, measuring_points[-1]+1):\n",
    "    if not toss(panel_width, needle_length):\n",
    "        count_losses += 1\n",
    "\n",
    "    if count==point_of_report:\n",
    "        probability = count_losses / point_of_report\n",
    "        print(\"Measurements: {:8d},   pi ~= {:.6f}\".format(point_of_report, 2/probability))\n",
    "        if count_of_report < len(measuring_points)-1:\n",
    "            count_of_report += 1\n",
    "            point_of_report = measuring_points[count_of_report]"
   ]
  },
  {
   "cell_type": "code",
   "execution_count": null,
   "metadata": {},
   "outputs": [],
   "source": []
  }
 ],
 "metadata": {
  "kernelspec": {
   "display_name": "Python 3",
   "language": "python",
   "name": "python3"
  },
  "language_info": {
   "codemirror_mode": {
    "name": "ipython",
    "version": 3
   },
   "file_extension": ".py",
   "mimetype": "text/x-python",
   "name": "python",
   "nbconvert_exporter": "python",
   "pygments_lexer": "ipython3",
   "version": "3.6.8"
  }
 },
 "nbformat": 4,
 "nbformat_minor": 2
}
