{
 "cells": [
  {
   "cell_type": "code",
   "execution_count": 24,
   "metadata": {},
   "outputs": [],
   "source": [
    "# Input:  A set of kmers Motifs\n",
    "# Output: Count(Motifs)\n",
    "def Count(Motifs):\n",
    "    k = len(Motifs[0])\n",
    "    count = {'A':[0]*k,'C':[0]*k,'G':[0]*k,'T':[0]*k}\n",
    "    t = len(Motifs)\n",
    "    for i in range(t):\n",
    "        for j in range(k):\n",
    "            symbol = Motifs[i][j]\n",
    "            count[symbol][j] += 1\n",
    "    return count"
   ]
  },
  {
   "cell_type": "code",
   "execution_count": 25,
   "metadata": {},
   "outputs": [],
   "source": [
    "# Input:  A list of kmers Motifs\n",
    "# Output: the profile matrix of Motifs, as a dictionary of lists.\n",
    "def Profile(Motifs):\n",
    "    t = len(Motifs)\n",
    "    k = len(Motifs[0])\n",
    "    profile = Count(Motifs)\n",
    "    \n",
    "    for key,v in profile.items():\n",
    "        v[:] = [x / t for x in v]\n",
    "    return profile"
   ]
  },
  {
   "cell_type": "code",
   "execution_count": 26,
   "metadata": {},
   "outputs": [],
   "source": [
    "# Input:  A set of kmers Motifs\n",
    "# Output: A consensus string of Motifs.\n",
    "def Consensus(Motifs):\n",
    "    k = len(Motifs[0])\n",
    "    count = Count(Motifs)\n",
    "    consensus = \"\"\n",
    "    for j in range(k):\n",
    "        m = 0\n",
    "        frequentSymbol = \"\"\n",
    "        for symbol in \"ACGT\":\n",
    "            if count[symbol][j] > m:\n",
    "                m = count[symbol][j]\n",
    "                frequentSymbol = symbol\n",
    "        consensus += frequentSymbol\n",
    "    return consensus"
   ]
  },
  {
   "cell_type": "code",
   "execution_count": 27,
   "metadata": {},
   "outputs": [],
   "source": [
    "# Input:  A set of k-mers Motifs\n",
    "# Output: The score of these k-mers.\n",
    "def Score(Motifs):\n",
    "    score=0\n",
    "    t = len(Motifs)\n",
    "    k = len(Motifs[0])\n",
    "    consensus=Consensus(Motifs)\n",
    "    for i in range(t):\n",
    "        for j in range(k):\n",
    "            if (Motifs[i][j]!=consensus[j]):\n",
    "                score+=1\n",
    "    return score"
   ]
  },
  {
   "cell_type": "code",
   "execution_count": 28,
   "metadata": {},
   "outputs": [],
   "source": [
    "# Input:  String Text and profile matrix Profile\n",
    "# Output: Pr(Text, Profile)\n",
    "def Pr(Text, Profile):\n",
    "    p=1\n",
    "    for i in range(len(Text)):\n",
    "        p=p*Profile[Text[i]][i]\n",
    "    return p"
   ]
  },
  {
   "cell_type": "code",
   "execution_count": 29,
   "metadata": {},
   "outputs": [],
   "source": [
    "# The profile matrix assumes that the first row corresponds to A, the second corresponds to C,\n",
    "# the third corresponds to G, and the fourth corresponds to T.\n",
    "# You should represent the profile matrix as a dictionary whose keys are 'A', 'C', 'G', and 'T' and whose values are lists of floats\n",
    "def ProfileMostProbableKmer(text, k, profile):\n",
    "    p=-1\n",
    "    kmer=text[0:k]\n",
    "    for i in range(len(text)-k+1):\n",
    "        if Pr(text[i:i+k],profile)>p:\n",
    "            p=Pr(text[i:i+k],profile)\n",
    "            kmer=text[i:i+k]\n",
    "    return kmer"
   ]
  },
  {
   "cell_type": "code",
   "execution_count": 30,
   "metadata": {},
   "outputs": [],
   "source": [
    "# http://www.mrgraeme.co.uk/greedy-motif-search/"
   ]
  },
  {
   "cell_type": "code",
   "execution_count": 31,
   "metadata": {},
   "outputs": [],
   "source": [
    "# Input:  A list of kmers Dna, and integers k and t (where t is the number of kmers in Dna)\n",
    "# Output: GreedyMotifSearch(Dna, k, t)\n",
    "def GreedyMotifSearch(Dna, k, t):\n",
    "    BestMotifs = []\n",
    "    for i in range(0, t):\n",
    "        BestMotifs.append(Dna[i][0:k])\n",
    "    n = len(Dna[0])\n",
    "    for i in range(n-k+1):\n",
    "        Motifs = []\n",
    "        Motifs.append(Dna[0][i:i+k])\n",
    "        for j in range(1, t):\n",
    "            P = Profile(Motifs[0:j])\n",
    "            Motifs.append(ProfileMostProbableKmer(Dna[j], k, P))\n",
    "        if Score(Motifs) < Score(BestMotifs):\n",
    "            BestMotifs = Motifs\n",
    "    return BestMotifs"
   ]
  },
  {
   "cell_type": "code",
   "execution_count": 32,
   "metadata": {},
   "outputs": [
    {
     "name": "stdout",
     "output_type": "stream",
     "text": [
      "9.916290005356972\n"
     ]
    }
   ],
   "source": [
    "import math\n",
    "a=[0.2,0.2,0.9,0.1,0.1,0.1,0.3]\n",
    "c=[0.1,0.6,0.4,0.1,0.2,0.4,0.6]\n",
    "g=[1,1,0.9,0.9,0.1]\n",
    "t=[0.7,0.2,0.1,0.1,0.5,0.8,0.7,0.3,0.4]\n",
    "data_list=[a,c,g,t]\n",
    "\n",
    "H=0.0\n",
    "for j in data_list:\n",
    "    for i in j:\n",
    "        H=H+i*(math.log(i,2))\n",
    "print (-H) "
   ]
  },
  {
   "cell_type": "code",
   "execution_count": 33,
   "metadata": {},
   "outputs": [],
   "source": [
    "# Input:  A set of kmers Motifs\n",
    "# Output: CountWithPseudocounts(Motifs)\n",
    "def CountWithPseudocounts(Motifs):\n",
    "    k = len(Motifs[0])\n",
    "    count = {'A':[1]*k,'C':[1]*k,'G':[1]*k,'T':[1]*k}\n",
    "    t = len(Motifs)\n",
    "    for i in range(t):\n",
    "        for j in range(k):\n",
    "            symbol = Motifs[i][j]\n",
    "            count[symbol][j] += 1\n",
    "    return count"
   ]
  },
  {
   "cell_type": "code",
   "execution_count": 34,
   "metadata": {},
   "outputs": [],
   "source": [
    "def ProfileWithPseudocounts(Motifs):\n",
    "    t = len(Motifs)\n",
    "    k = len(Motifs[0])\n",
    "    #profile = {} # output variable\n",
    "    profile=CountWithPseudocounts(Motifs)\n",
    "    for key,v in profile.items():\n",
    "        v[:]= [x/(t+4) for x in v]\n",
    "    return profile"
   ]
  },
  {
   "cell_type": "code",
   "execution_count": 52,
   "metadata": {},
   "outputs": [],
   "source": [
    "def Motifs(Profile,k,Dna):\n",
    "    motifs=[]\n",
    "    for i in range(len(Dna)):\n",
    "        motifs.append(ProfileMostProbableKmer(Dna[i],k,Profile))\n",
    "    return motifs"
   ]
  },
  {
   "cell_type": "code",
   "execution_count": 36,
   "metadata": {},
   "outputs": [],
   "source": [
    "# selects a random set of motifs from a set of Dna strings\n",
    "import random\n",
    "# Input:  A list of strings Dna, and integers k and t\n",
    "# Output: RandomMotifs(Dna, k, t)\n",
    "# HINT:   You might not actually need to use t since t = len(Dna), but you may find it convenient\n",
    "def RandomMotifs(Dna, k, t):\n",
    "    motifs=[]\n",
    "    for i in range(t):\n",
    "        num=random.randint(0,len(Dna[0])-k)\n",
    "        motifs.append(Dna[i][num:num+k])\n",
    "    return motifs"
   ]
  },
  {
   "cell_type": "code",
   "execution_count": 37,
   "metadata": {},
   "outputs": [],
   "source": [
    "#keeps iterating till we get the best set of motifs\n",
    "def RandomizedMotifSearch(Dna, k, t):\n",
    "    M = RandomMotifs(Dna, k, t)\n",
    "    BestMotifs = M\n",
    "    while True:\n",
    "        Profile = ProfileWithPseudocounts(M)\n",
    "        M = Motifs(Profile,k,Dna)\n",
    "        if Score(M) < Score(BestMotifs):\n",
    "            BestMotifs = M\n",
    "        else:\n",
    "            return BestMotifs "
   ]
  },
  {
   "cell_type": "code",
   "execution_count": 38,
   "metadata": {},
   "outputs": [],
   "source": [
    "# Input: A dictionary Probabilities, where keys are k-mers and values are the probabilities of these k-mers (which do not necessarily sum up to 1)\n",
    "# Output: A normalized dictionary where the probability of each k-mer was divided by the sum of all k-mers' probabilities\n",
    "def Normalize(Probabilities):\n",
    "    new_dict=Probabilities\n",
    "    t=sum(new_dict.values())\n",
    "    for i in new_dict:\n",
    "        new_dict[i]/=t\n",
    "    return new_dict"
   ]
  },
  {
   "cell_type": "code",
   "execution_count": 39,
   "metadata": {},
   "outputs": [],
   "source": [
    "#Biased Die\n",
    "import random\n",
    "def WeightedDie(Probabilities):\n",
    "    n = random.uniform(0, 1)\n",
    "    for p in Probabilities:\n",
    "        n -= Probabilities[p]\n",
    "        if n <= 0:\n",
    "            return p"
   ]
  },
  {
   "cell_type": "code",
   "execution_count": 40,
   "metadata": {},
   "outputs": [
    {
     "name": "stdout",
     "output_type": "stream",
     "text": [
      "[0.24999999999999997, 0.35, 0.04999999999999999, 0.15, 0.19999999999999996]\n"
     ]
    }
   ],
   "source": [
    "a=[0.45 ,0.63 ,0.09 ,0.27 ,0.36]\n",
    "s=sum(a)\n",
    "n= [x/s for x in a ]\n",
    "print(n)"
   ]
  },
  {
   "cell_type": "code",
   "execution_count": 107,
   "metadata": {},
   "outputs": [
    {
     "data": {
      "text/plain": [
       "[3, 2]"
      ]
     },
     "execution_count": 107,
     "metadata": {},
     "output_type": "execute_result"
    }
   ],
   "source": [
    "a=[3,4,5,6,7,8]\n",
    "a=[3,2]\n",
    "a"
   ]
  },
  {
   "cell_type": "code",
   "execution_count": null,
   "metadata": {},
   "outputs": [],
   "source": []
  },
  {
   "cell_type": "code",
   "execution_count": null,
   "metadata": {},
   "outputs": [],
   "source": []
  },
  {
   "cell_type": "code",
   "execution_count": null,
   "metadata": {},
   "outputs": [],
   "source": []
  },
  {
   "cell_type": "code",
   "execution_count": null,
   "metadata": {},
   "outputs": [],
   "source": []
  }
 ],
 "metadata": {
  "kernelspec": {
   "display_name": "Python 3",
   "language": "python",
   "name": "python3"
  },
  "language_info": {
   "codemirror_mode": {
    "name": "ipython",
    "version": 3
   },
   "file_extension": ".py",
   "mimetype": "text/x-python",
   "name": "python",
   "nbconvert_exporter": "python",
   "pygments_lexer": "ipython3",
   "version": "3.7.1"
  }
 },
 "nbformat": 4,
 "nbformat_minor": 2
}
